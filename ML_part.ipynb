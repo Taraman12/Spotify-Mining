{
 "cells": [
  {
   "cell_type": "markdown",
   "metadata": {},
   "source": [
    "## In this part some ML-Approaches should be used to create a model to improve the popularity of songs"
   ]
  },
  {
   "cell_type": "code",
   "execution_count": 11,
   "metadata": {},
   "outputs": [],
   "source": [
    "# General tools\n",
    "import os\n",
    "from pathlib import Path\n",
    "import pandas as pd\n",
    "import numpy as np\n",
    "import datetime\n",
    "import matplotlib.pyplot as plt\n",
    "import seaborn as sns\n",
    "\n",
    "# To save the models\n",
    "from joblib import dump, load\n",
    "\n",
    "# For transformations and predictions\n",
    "from sklearn.linear_model import LinearRegression\n",
    "from sklearn.neighbors import KNeighborsRegressor\n",
    "from sklearn.metrics import pairwise_distances\n",
    "from sklearn.tree import DecisionTreeRegressor, export_graphviz\n",
    "from sklearn.ensemble import RandomForestClassifier\n",
    "from xgboost import XGBRegressor\n",
    "\n",
    "# For Optimization\n",
    "from sklearn.model_selection import GridSearchCV\n",
    "from sklearn.model_selection import RandomizedSearchCV\n",
    "# For scoring\n",
    "from sklearn.metrics import mean_squared_error as mse\n",
    "from sklearn import metrics\n",
    "\n",
    "# For validation\n",
    "from sklearn.model_selection import train_test_split as train_test_split\n",
    "\n",
    "# For plotting the tree graph\n",
    "from sklearn import tree\n",
    "\n",
    "# package used to calculate Shap values\n",
    "import shap "
   ]
  },
  {
   "cell_type": "code",
   "execution_count": 2,
   "metadata": {},
   "outputs": [],
   "source": [
    "def Data_import():\n",
    "    base_dir = Path.cwd()\n",
    "    filename = Path('data_cleaned.csv')\n",
    "    path = os.path.join(base_dir, filename)\n",
    "    return pd.read_csv(path)"
   ]
  },
  {
   "cell_type": "code",
   "execution_count": 3,
   "metadata": {},
   "outputs": [],
   "source": [
    "def Data_preprossesing(df, Optimization):\n",
    "    np.random.seed(10)\n",
    "    remove_n = 0\n",
    "    drop_indices = np.random.choice(df.index, remove_n, replace=False)\n",
    "\n",
    "    df = df.drop(drop_indices)\n",
    "    if Optimization == \"No\":\n",
    "        X = df.drop(['popularity','artists', 'id_artists', 'id','name','release_date'], axis=1)\n",
    "    elif Optimization == \"year_dropped\":\n",
    "        X = df.drop(['popularity','artists', 'id_artists','id','name','release_date','year'], axis=1)\n",
    "    else:\n",
    "        X = df.drop(['popularity','artists', 'id_artists', 'id','name','release_date'], axis=1)\n",
    "    y = df['popularity']\n",
    "    return train_test_split(X, y, test_size=0.2, random_state=0)"
   ]
  },
  {
   "cell_type": "code",
   "execution_count": 4,
   "metadata": {},
   "outputs": [],
   "source": [
    "def Lineare_Regression(X_train, y_train):\n",
    "    regressor = LinearRegression()\n",
    "    regressor.fit(X_train, y_train)\n",
    "    return regressor.predict(X_test).clip(0,100), Lineare_Regression.__name__ , regressor"
   ]
  },
  {
   "cell_type": "code",
   "execution_count": 5,
   "metadata": {},
   "outputs": [],
   "source": [
    "def KNN(X_train, y_train):\n",
    "    RMSE1_train, RMSE1_test = [], []  \n",
    "    for i in range(5,101,5):\n",
    "        knn = KNeighborsRegressor(n_neighbors=i)\n",
    "        \n",
    "        knn.fit(X_train,y_train)\n",
    "        y_train_pred = knn.predict(X_train)\n",
    "        knn_train_rmse = np.sqrt(mse(y_train, y_train_pred))\n",
    "        RMSE1_train.append(knn_train_rmse.round(3))\n",
    "        y_test_pred = knn.predict(X_test)\n",
    "        knn_test_rmse = np.sqrt(mse(y_test, y_test_pred))\n",
    "        RMSE1_test.append(knn_test_rmse.round(3))\n",
    "    return knn.predict(X_test).clip(0,100),KNN.__name__ ,knn"
   ]
  },
  {
   "cell_type": "code",
   "execution_count": 6,
   "metadata": {},
   "outputs": [],
   "source": [
    "def Decision_Tree(X_train, y_train):\n",
    "    tree = DecisionTreeRegressor(max_leaf_nodes=41, min_samples_split=2000)\n",
    "     \n",
    "    tree.fit(X_train, y_train)\n",
    "    y_train_pred = tree.predict(X_train).clip(0, 100)\n",
    "    train_rmse = np.sqrt(mse(y_train, y_train_pred))\n",
    "    y_test_pred = tree.predict(X_test).clip(0, 100)\n",
    "    test_rmse = np.sqrt(mse(y_test, y_test_pred))\n",
    "    return tree.predict(X_test).clip(0, 100), Decision_Tree.__name__, tree"
   ]
  },
  {
   "cell_type": "code",
   "execution_count": 7,
   "metadata": {},
   "outputs": [],
   "source": [
    "def XGBoost(X_train, y_train):\n",
    "    xgb_regressor = XGBRegressor(n_estimators=100, max_depth=200, learning_rate=0.01)\n",
    "    xgb_regressor.fit(X_train, y_train)\n",
    "    return xgb_regressor.predict(X_test), XGBoost.__name__, xgb_regressor"
   ]
  },
  {
   "cell_type": "code",
   "execution_count": 8,
   "metadata": {},
   "outputs": [],
   "source": [
    "def Scoring(y_test, y_pred):\n",
    "    MAE = metrics.mean_absolute_error(y_test, y_pred)\n",
    "    MSE =  metrics.mean_squared_error(y_test, y_pred)\n",
    "    RMSE = np.sqrt(metrics.mean_squared_error(y_test, y_pred))\n",
    "    return MAE, MSE, RMSE"
   ]
  },
  {
   "cell_type": "code",
   "execution_count": 9,
   "metadata": {},
   "outputs": [],
   "source": [
    "# saves the model for later analysis\n",
    "def save_model(str_Verfahren,  Optimierung, y_pred, y_test):\n",
    "    base_dir = Path.cwd()\n",
    "    filename = Path(str_Verfahren+ '_' + Optimierung + '.joblib')\n",
    "    path = os.path.join(base_dir, filename)\n",
    "    dump(model,path)\n",
    "    \n",
    "    series_y_pred = pd.Series(y_pred)\n",
    "    df_y_pred = pd.DataFrame(series_y_pred)\n",
    "    df_y_pred.columns = [\"y_pred\"]\n",
    "\n",
    "    df_y_test = pd.DataFrame(y_test)\n",
    "    df_y_test.columns = [\"y_test\"]\n",
    "    df_y_test.reset_index(drop=True, inplace=True)\n",
    "    merged_df = df_y_pred.merge(df_y_test, left_index=True, right_index=True)\n",
    "    filename = Path('y_pred_'+str_Verfahren+ '_' + Optimierung + '.xlsx')\n",
    "    path = os.path.join(base_dir, filename)\n",
    "    merged_df.to_excel(path)\n",
    "    return print(str_Verfahren + ' with modification ' + Optimierung +\" saved\")"
   ]
  },
  {
   "cell_type": "markdown",
   "metadata": {},
   "source": [
    "### This function uses all ML-Algorithms"
   ]
  },
  {
   "cell_type": "code",
   "execution_count": 41,
   "metadata": {},
   "outputs": [
    {
     "name": "stdout",
     "output_type": "stream",
     "text": [
      "Lineare_Regression with modificationNo saved\n",
      "KNN with modificationNo saved\n",
      "Decision_Tree with modificationNo saved\n",
      "XGBoost with modificationNo saved\n",
      "Lineare_Regression with modificationyear_dropped saved\n",
      "KNN with modificationyear_dropped saved\n",
      "Decision_Tree with modificationyear_dropped saved\n",
      "XGBoost with modificationyear_dropped saved\n"
     ]
    },
    {
     "data": {
      "text/html": [
       "<div>\n",
       "<style scoped>\n",
       "    .dataframe tbody tr th:only-of-type {\n",
       "        vertical-align: middle;\n",
       "    }\n",
       "\n",
       "    .dataframe tbody tr th {\n",
       "        vertical-align: top;\n",
       "    }\n",
       "\n",
       "    .dataframe thead th {\n",
       "        text-align: right;\n",
       "    }\n",
       "</style>\n",
       "<table border=\"1\" class=\"dataframe\">\n",
       "  <thead>\n",
       "    <tr style=\"text-align: right;\">\n",
       "      <th></th>\n",
       "      <th>0</th>\n",
       "      <th>1</th>\n",
       "      <th>2</th>\n",
       "      <th>3</th>\n",
       "      <th>4</th>\n",
       "      <th>5</th>\n",
       "      <th>6</th>\n",
       "      <th>7</th>\n",
       "    </tr>\n",
       "  </thead>\n",
       "  <tbody>\n",
       "    <tr>\n",
       "      <th>Algorithm</th>\n",
       "      <td>Lineare_Regression</td>\n",
       "      <td>KNN</td>\n",
       "      <td>Decision_Tree</td>\n",
       "      <td>XGBoost</td>\n",
       "      <td>Lineare_Regression</td>\n",
       "      <td>KNN</td>\n",
       "      <td>Decision_Tree</td>\n",
       "      <td>XGBoost</td>\n",
       "    </tr>\n",
       "    <tr>\n",
       "      <th>Modification</th>\n",
       "      <td>No</td>\n",
       "      <td>No</td>\n",
       "      <td>No</td>\n",
       "      <td>No</td>\n",
       "      <td>year_dropped</td>\n",
       "      <td>year_dropped</td>\n",
       "      <td>year_dropped</td>\n",
       "      <td>year_dropped</td>\n",
       "    </tr>\n",
       "    <tr>\n",
       "      <th>MAE</th>\n",
       "      <td>11.078659</td>\n",
       "      <td>13.205403</td>\n",
       "      <td>10.518684</td>\n",
       "      <td>13.873164</td>\n",
       "      <td>13.038703</td>\n",
       "      <td>14.78789</td>\n",
       "      <td>12.571853</td>\n",
       "      <td>15.071534</td>\n",
       "    </tr>\n",
       "    <tr>\n",
       "      <th>MSE</th>\n",
       "      <td>207.45764</td>\n",
       "      <td>261.238083</td>\n",
       "      <td>191.522931</td>\n",
       "      <td>325.616319</td>\n",
       "      <td>259.157865</td>\n",
       "      <td>321.808185</td>\n",
       "      <td>245.514395</td>\n",
       "      <td>371.879879</td>\n",
       "    </tr>\n",
       "    <tr>\n",
       "      <th>RMSE</th>\n",
       "      <td>14.40339</td>\n",
       "      <td>16.162861</td>\n",
       "      <td>13.839181</td>\n",
       "      <td>18.044842</td>\n",
       "      <td>16.098381</td>\n",
       "      <td>17.939013</td>\n",
       "      <td>15.668899</td>\n",
       "      <td>19.284187</td>\n",
       "    </tr>\n",
       "  </tbody>\n",
       "</table>\n",
       "</div>"
      ],
      "text/plain": [
       "                               0           1              2           3  \\\n",
       "Algorithm     Lineare_Regression         KNN  Decision_Tree     XGBoost   \n",
       "Modification                  No          No             No          No   \n",
       "MAE                    11.078659   13.205403      10.518684   13.873164   \n",
       "MSE                    207.45764  261.238083     191.522931  325.616319   \n",
       "RMSE                    14.40339   16.162861      13.839181   18.044842   \n",
       "\n",
       "                               4             5              6             7  \n",
       "Algorithm     Lineare_Regression           KNN  Decision_Tree       XGBoost  \n",
       "Modification        year_dropped  year_dropped   year_dropped  year_dropped  \n",
       "MAE                    13.038703      14.78789      12.571853     15.071534  \n",
       "MSE                   259.157865    321.808185     245.514395    371.879879  \n",
       "RMSE                   16.098381     17.939013      15.668899     19.284187  "
      ]
     },
     "execution_count": 41,
     "metadata": {},
     "output_type": "execute_result"
    }
   ],
   "source": [
    "list_algo = [Lineare_Regression, KNN, Decision_Tree, XGBoost]\n",
    "\n",
    "list_modifications = [\"No\", \"year_dropped\"]\n",
    "\n",
    "temp_list = []\n",
    "\n",
    "df = Data_import()\n",
    "for modification in list_modifications:\n",
    "    X_train, X_test, y_train, y_test = Data_preprossesing(df, modification)\n",
    "    for Algorithmen in list_algo:\n",
    "        y_pred, str_Verfahren, model = Algorithmen(X_train, y_train) \n",
    "        save_model(str_Verfahren, modification, y_pred, y_test)\n",
    "        MAE, MSE, RMSE = Scoring(y_test, y_pred)\n",
    "        temp_list.append([str_Verfahren, modification, MAE, MSE, RMSE])\n",
    "\n",
    "Scoring_Table = pd.DataFrame(temp_list, columns=['Algorithm', 'Modification', 'MAE', 'MSE', 'RMSE'])\n",
    "Scoring_Table.transpose()"
   ]
  },
  {
   "cell_type": "markdown",
   "metadata": {},
   "source": [
    "## Deeper analysis of models"
   ]
  },
  {
   "cell_type": "code",
   "execution_count": 10,
   "metadata": {},
   "outputs": [],
   "source": [
    "def Model_import(str_Verfahren, Optimierung):\n",
    "    base_dir = Path.cwd()\n",
    "    filename = Path(str_Verfahren+ '_' + Optimierung + '.joblib')\n",
    "    path = os.path.join(base_dir, filename)\n",
    "    return load(path)"
   ]
  },
  {
   "cell_type": "code",
   "execution_count": 6,
   "metadata": {},
   "outputs": [],
   "source": [
    "model = Model_import('XGBoost', 'year_dropped')\n",
    "data = Data_import()\n",
    "X_train, X_test, y_train, y_test = Data_preprossesing(data, 'year_dropped')"
   ]
  },
  {
   "cell_type": "code",
   "execution_count": null,
   "metadata": {},
   "outputs": [],
   "source": [
    "shap_values = shap.TreeExplainer(model).shap_values(X_train)"
   ]
  },
  {
   "cell_type": "code",
   "execution_count": null,
   "metadata": {},
   "outputs": [],
   "source": [
    "shap.summary_plot(shap_values, X_train, plot_type=\"bar\", plot_size=(15,15), auto_size_plot=True)"
   ]
  },
  {
   "cell_type": "code",
   "execution_count": null,
   "metadata": {},
   "outputs": [],
   "source": [
    "plt.rcParams.update({'font.size': 40})\n",
    "plt.rcParams.update({'font.weight': 1000})\n",
    "shap.summary_plot(shap_values, X_train,plot_size=(17,13),show=False)\n",
    "plt.savefig('SHAP_impact_on_output.pdf',bbox_inches='tight',transparent=True)"
   ]
  },
  {
   "cell_type": "code",
   "execution_count": null,
   "metadata": {},
   "outputs": [],
   "source": [
    "%matplotlib inline\n",
    "from pylab import rcParams\n",
    "shap.initjs()\n",
    "j =5 \n",
    "explainerModel = shap.TreeExplainer(model)\n",
    "shap_values_Model = explainerModel.shap_values(S)\n",
    "plt.rcParams.update(plt.rcParamsDefault)\n",
    "plt.rcParams.update({'font.size': 10})\n",
    "plt.rcParams.update({'font.weight': 1000})\n",
    "plt.rcParams['axes.titlesize'] = 20\n",
    "plt.rcParams.update({\"figure.figsize\": (20,10)})\n",
    "fig = shap.force_plot(explainerModel.expected_value.round(2), shap_values_Model[j,:].round(2), S.iloc[j,:].round(3), show=True,matplotlib=True,figsize=(19, 6),contribution_threshold=0.1) \n",
    "plt.savefig('SHAP_strahl.pdf',bbox_inches='tight',transparent=True)"
   ]
  },
  {
   "cell_type": "code",
   "execution_count": 42,
   "metadata": {},
   "outputs": [
    {
     "name": "stdout",
     "output_type": "stream",
     "text": [
      "Feature importances:\n",
      "duration_ms : 0.003\n",
      "explicit    : 0.914\n",
      "danceability: 0.004\n",
      "energy      : 0.004\n",
      "key         : 0.003\n",
      "loudness    : 0.010\n",
      "mode        : 0.004\n",
      "speechiness : 0.004\n",
      "acousticness: 0.028\n",
      "instrumentalness: 0.006\n",
      "liveness    : 0.005\n",
      "valence     : 0.007\n",
      "tempo       : 0.005\n",
      "time_signature: 0.004\n"
     ]
    }
   ],
   "source": [
    "# Dient zu Feature Importance analyse\n",
    "print('Feature importances:')\n",
    "for i, col in enumerate(X_train.columns):\n",
    "  print(f'{col:12}: {model.feature_importances_[i]:.3f}')\n"
   ]
  },
  {
   "cell_type": "code",
   "execution_count": null,
   "metadata": {},
   "outputs": [],
   "source": [
    "# Speichert den Decision Tree als PDF\n",
    "features_names = X_train.columns\n",
    "plt.subplots(figsize=(70, 30))\n",
    "tree.plot_tree(model, max_depth=2,feature_names = features_names, filled=True,precision=2,fontsize=55) \n",
    "plt.savefig('Decision_tree_grafisch_Jahr_gedroppt.pdf')"
   ]
  },
  {
   "cell_type": "code",
   "execution_count": null,
   "metadata": {},
   "outputs": [],
   "source": []
  }
 ],
 "metadata": {
  "kernelspec": {
   "display_name": "Python 3.8.5 ('base': conda)",
   "language": "python",
   "name": "python3"
  },
  "language_info": {
   "codemirror_mode": {
    "name": "ipython",
    "version": 3
   },
   "file_extension": ".py",
   "mimetype": "text/x-python",
   "name": "python",
   "nbconvert_exporter": "python",
   "pygments_lexer": "ipython3",
   "version": "3.8.5"
  },
  "orig_nbformat": 4,
  "vscode": {
   "interpreter": {
    "hash": "d6604bd79ba6565421d129d26491776b1a358d578952e7580f3838bba9534a6e"
   }
  }
 },
 "nbformat": 4,
 "nbformat_minor": 2
}
